{
  "nbformat": 4,
  "nbformat_minor": 0,
  "metadata": {
    "colab": {
      "name": "Untitled4.ipynb",
      "provenance": [],
      "authorship_tag": "ABX9TyN7JFRm3BoYPPVgc2oWYnzU",
      "include_colab_link": true
    },
    "kernelspec": {
      "name": "python3",
      "display_name": "Python 3"
    },
    "language_info": {
      "name": "python"
    }
  },
  "cells": [
    {
      "cell_type": "markdown",
      "metadata": {
        "id": "view-in-github",
        "colab_type": "text"
      },
      "source": [
        "<a href=\"https://colab.research.google.com/github/Aniaannaan/ObliczeniaNaukowe/blob/main/Lab5.ipynb\" target=\"_parent\"><img src=\"https://colab.research.google.com/assets/colab-badge.svg\" alt=\"Open In Colab\"/></a>"
      ]
    },
    {
      "cell_type": "code",
      "execution_count": 1,
      "metadata": {
        "id": "ZfhjJMXbgDUS"
      },
      "outputs": [],
      "source": [
        "import numpy as np\n",
        "from scipy.linalg import block_diag"
      ]
    },
    {
      "cell_type": "code",
      "source": [
        "Mat1=block_diag(np.ones((2,2)),np.zeros((2,2)),3,(4*np.ones((2,2))-2*np.eye(2)))"
      ],
      "metadata": {
        "id": "L2cjqadKjPeh"
      },
      "execution_count": 2,
      "outputs": []
    },
    {
      "cell_type": "code",
      "source": [
        "Mat1.shape"
      ],
      "metadata": {
        "colab": {
          "base_uri": "https://localhost:8080/"
        },
        "id": "XknQiv5gjuDJ",
        "outputId": "5ac96e70-808a-471b-9bc1-bc7d374140fc"
      },
      "execution_count": 3,
      "outputs": [
        {
          "output_type": "execute_result",
          "data": {
            "text/plain": [
              "(7, 7)"
            ]
          },
          "metadata": {},
          "execution_count": 3
        }
      ]
    },
    {
      "cell_type": "code",
      "source": [
        "Mat1.reshape((1,49)) #zmiana kształtu"
      ],
      "metadata": {
        "colab": {
          "base_uri": "https://localhost:8080/"
        },
        "id": "E1qGrb8HjwBh",
        "outputId": "2e562675-43ce-447c-d426-f6699d058f1f"
      },
      "execution_count": 5,
      "outputs": [
        {
          "output_type": "execute_result",
          "data": {
            "text/plain": [
              "array([[1., 1., 0., 0., 0., 0., 0., 1., 1., 0., 0., 0., 0., 0., 0., 0.,\n",
              "        0., 0., 0., 0., 0., 0., 0., 0., 0., 0., 0., 0., 0., 0., 0., 0.,\n",
              "        3., 0., 0., 0., 0., 0., 0., 0., 2., 4., 0., 0., 0., 0., 0., 4.,\n",
              "        2.]])"
            ]
          },
          "metadata": {},
          "execution_count": 5
        }
      ]
    },
    {
      "cell_type": "code",
      "source": [
        "tab=np.array([[1,2,3],[2,3,4]])\n",
        "tab"
      ],
      "metadata": {
        "colab": {
          "base_uri": "https://localhost:8080/"
        },
        "id": "mkyRmbFxkGVp",
        "outputId": "f3ca59a5-1752-4c55-dbef-b53499ad7b0c"
      },
      "execution_count": 10,
      "outputs": [
        {
          "output_type": "execute_result",
          "data": {
            "text/plain": [
              "array([[1, 2, 3],\n",
              "       [2, 3, 4]])"
            ]
          },
          "metadata": {},
          "execution_count": 10
        }
      ]
    },
    {
      "cell_type": "code",
      "source": [
        "tab.reshape((3,2))"
      ],
      "metadata": {
        "colab": {
          "base_uri": "https://localhost:8080/"
        },
        "id": "OSBzOVaPkltQ",
        "outputId": "9922b8c2-904e-4ab8-ecdc-80d287c07cd3"
      },
      "execution_count": 11,
      "outputs": [
        {
          "output_type": "execute_result",
          "data": {
            "text/plain": [
              "array([[1, 2],\n",
              "       [3, 2],\n",
              "       [3, 4]])"
            ]
          },
          "metadata": {},
          "execution_count": 11
        }
      ]
    },
    {
      "cell_type": "code",
      "source": [
        "tab.reshape((1,6))"
      ],
      "metadata": {
        "colab": {
          "base_uri": "https://localhost:8080/"
        },
        "id": "xT1Arl9dkxgI",
        "outputId": "bbcd73e1-e2b9-4017-d367-63ab56d3cd56"
      },
      "execution_count": 12,
      "outputs": [
        {
          "output_type": "execute_result",
          "data": {
            "text/plain": [
              "array([[1, 2, 3, 2, 3, 4]])"
            ]
          },
          "metadata": {},
          "execution_count": 12
        }
      ]
    },
    {
      "cell_type": "code",
      "source": [
        "tab.reshape(-1) #gdy nie znamy wymiaru"
      ],
      "metadata": {
        "colab": {
          "base_uri": "https://localhost:8080/"
        },
        "id": "yk-Fu2uIk6yw",
        "outputId": "04fbaf2c-7cc2-42b9-f095-925abdf2a268"
      },
      "execution_count": 13,
      "outputs": [
        {
          "output_type": "execute_result",
          "data": {
            "text/plain": [
              "array([1, 2, 3, 2, 3, 4])"
            ]
          },
          "metadata": {},
          "execution_count": 13
        }
      ]
    },
    {
      "cell_type": "markdown",
      "source": [
        "### Zadanie 7\n",
        "Utwórz tablicę\n",
        "\n",
        "$$\n",
        "\\begin{bmatrix}\n",
        "1&2&3&4\\\\\n",
        "5&6&7&8 \\\\\n",
        "9&10&11&12\\\\\n",
        "13&14&15&16\n",
        "\\end{bmatrix}\n",
        "$$"
      ],
      "metadata": {
        "id": "gVpG-tSAlA7V"
      }
    },
    {
      "cell_type": "code",
      "source": [
        "tab=np.array([[1,2,3,4],[5,6,7,8],[9,10,11,12],[13,14,15,16]])\n",
        "tab"
      ],
      "metadata": {
        "colab": {
          "base_uri": "https://localhost:8080/"
        },
        "id": "s7c6sDJBlFmY",
        "outputId": "403a19b1-0cfb-4a22-8556-cd405a15ae42"
      },
      "execution_count": 15,
      "outputs": [
        {
          "output_type": "execute_result",
          "data": {
            "text/plain": [
              "array([[ 1,  2,  3,  4],\n",
              "       [ 5,  6,  7,  8],\n",
              "       [ 9, 10, 11, 12],\n",
              "       [13, 14, 15, 16]])"
            ]
          },
          "metadata": {},
          "execution_count": 15
        }
      ]
    },
    {
      "cell_type": "markdown",
      "source": [
        "lub szybciej"
      ],
      "metadata": {
        "id": "Lcgyk9jnlb7w"
      }
    },
    {
      "cell_type": "code",
      "source": [
        "np.arange(1,17).reshape((4,4))"
      ],
      "metadata": {
        "colab": {
          "base_uri": "https://localhost:8080/"
        },
        "id": "I3f-JyqwldiQ",
        "outputId": "ca5c6baf-4925-4af1-baae-3736e5a855ec"
      },
      "execution_count": 16,
      "outputs": [
        {
          "output_type": "execute_result",
          "data": {
            "text/plain": [
              "array([[ 1,  2,  3,  4],\n",
              "       [ 5,  6,  7,  8],\n",
              "       [ 9, 10, 11, 12],\n",
              "       [13, 14, 15, 16]])"
            ]
          },
          "metadata": {},
          "execution_count": 16
        }
      ]
    },
    {
      "cell_type": "markdown",
      "source": [
        "#Zadanie\n",
        "Utwórz macierz o wymiarach 5x6x3 i elementach\n",
        "X[i,j,k]=100+60(i-1)+10(j-1)+300(k-1)"
      ],
      "metadata": {
        "id": "fNuTmDsJmPZg"
      }
    },
    {
      "cell_type": "code",
      "source": [
        ""
      ],
      "metadata": {
        "colab": {
          "base_uri": "https://localhost:8080/",
          "height": 165
        },
        "id": "T-hAVBd4pFWY",
        "outputId": "18ca7467-4e9a-4ebc-84c1-bebde8122981"
      },
      "execution_count": 33,
      "outputs": [
        {
          "output_type": "error",
          "ename": "ValueError",
          "evalue": "ignored",
          "traceback": [
            "\u001b[0;31m---------------------------------------------------------------------------\u001b[0m",
            "\u001b[0;31mValueError\u001b[0m                                Traceback (most recent call last)",
            "\u001b[0;32m<ipython-input-33-a7836387dde1>\u001b[0m in \u001b[0;36m<module>\u001b[0;34m()\u001b[0m\n\u001b[0;32m----> 1\u001b[0;31m \u001b[0mnp\u001b[0m\u001b[0;34m.\u001b[0m\u001b[0marange\u001b[0m\u001b[0;34m(\u001b[0m\u001b[0;36m0\u001b[0m\u001b[0;34m,\u001b[0m\u001b[0;36m240\u001b[0m\u001b[0;34m,\u001b[0m\u001b[0;36m60\u001b[0m\u001b[0;34m)\u001b[0m\u001b[0;34m.\u001b[0m\u001b[0mreshape\u001b[0m\u001b[0;34m(\u001b[0m\u001b[0;36m5\u001b[0m\u001b[0;34m,\u001b[0m\u001b[0;36m1\u001b[0m\u001b[0;34m)\u001b[0m\u001b[0;34m\u001b[0m\u001b[0;34m\u001b[0m\u001b[0m\n\u001b[0m",
            "\u001b[0;31mValueError\u001b[0m: cannot reshape array of size 4 into shape (5,1)"
          ]
        }
      ]
    },
    {
      "cell_type": "markdown",
      "source": [
        "Dodawanie macierzy"
      ],
      "metadata": {
        "id": "x52OcShepGSI"
      }
    },
    {
      "cell_type": "code",
      "source": [
        "tab1=np.array([1,2])\n",
        "tab1"
      ],
      "metadata": {
        "colab": {
          "base_uri": "https://localhost:8080/"
        },
        "id": "ODjDy9h1lvQI",
        "outputId": "b025514b-d83e-4121-d4cb-184989675540"
      },
      "execution_count": 24,
      "outputs": [
        {
          "output_type": "execute_result",
          "data": {
            "text/plain": [
              "array([1, 2])"
            ]
          },
          "metadata": {},
          "execution_count": 24
        }
      ]
    },
    {
      "cell_type": "code",
      "source": [
        "tab2=np.array([[1],[2]])\n",
        "tab2"
      ],
      "metadata": {
        "colab": {
          "base_uri": "https://localhost:8080/"
        },
        "id": "UZ2Mx7Cbnn6R",
        "outputId": "b445ce2b-0af0-492b-bd51-2e7889982079"
      },
      "execution_count": 25,
      "outputs": [
        {
          "output_type": "execute_result",
          "data": {
            "text/plain": [
              "array([[1],\n",
              "       [2]])"
            ]
          },
          "metadata": {},
          "execution_count": 25
        }
      ]
    },
    {
      "cell_type": "code",
      "source": [
        "tab1+tab2"
      ],
      "metadata": {
        "colab": {
          "base_uri": "https://localhost:8080/"
        },
        "id": "LuahYpL8nvFI",
        "outputId": "2f06b24f-f16a-4ddd-a3a9-f36c076a9b7b"
      },
      "execution_count": 27,
      "outputs": [
        {
          "output_type": "execute_result",
          "data": {
            "text/plain": [
              "array([[2, 3],\n",
              "       [3, 4]])"
            ]
          },
          "metadata": {},
          "execution_count": 27
        }
      ]
    },
    {
      "cell_type": "markdown",
      "source": [
        "Dodawanie macierzy czy sie da"
      ],
      "metadata": {
        "id": "LP2FxXUUo2Gd"
      }
    },
    {
      "cell_type": "code",
      "source": [
        "tab3=np.zeros((2,4))\n",
        "tab3"
      ],
      "metadata": {
        "colab": {
          "base_uri": "https://localhost:8080/"
        },
        "id": "sSWSR4_OoYDw",
        "outputId": "577fce2e-9902-48a0-c533-954fbc37c3ae"
      },
      "execution_count": 30,
      "outputs": [
        {
          "output_type": "execute_result",
          "data": {
            "text/plain": [
              "array([[0., 0., 0., 0.],\n",
              "       [0., 0., 0., 0.]])"
            ]
          },
          "metadata": {},
          "execution_count": 30
        }
      ]
    },
    {
      "cell_type": "code",
      "source": [
        "tab4=np.ones((2,2))\n",
        "tab4"
      ],
      "metadata": {
        "colab": {
          "base_uri": "https://localhost:8080/"
        },
        "id": "YWdPAyUpolKI",
        "outputId": "1e7f6726-0316-4917-cb4a-32f2630f413f"
      },
      "execution_count": 31,
      "outputs": [
        {
          "output_type": "execute_result",
          "data": {
            "text/plain": [
              "array([[1., 1.],\n",
              "       [1., 1.]])"
            ]
          },
          "metadata": {},
          "execution_count": 31
        }
      ]
    },
    {
      "cell_type": "code",
      "source": [
        "tab3+tab4"
      ],
      "metadata": {
        "colab": {
          "base_uri": "https://localhost:8080/",
          "height": 165
        },
        "id": "ZMfvQ5Xdow8w",
        "outputId": "0d09db69-5f30-47d9-8aec-df2d0410d549"
      },
      "execution_count": 32,
      "outputs": [
        {
          "output_type": "error",
          "ename": "ValueError",
          "evalue": "ignored",
          "traceback": [
            "\u001b[0;31m---------------------------------------------------------------------------\u001b[0m",
            "\u001b[0;31mValueError\u001b[0m                                Traceback (most recent call last)",
            "\u001b[0;32m<ipython-input-32-adf456f4087a>\u001b[0m in \u001b[0;36m<module>\u001b[0;34m()\u001b[0m\n\u001b[0;32m----> 1\u001b[0;31m \u001b[0mtab3\u001b[0m\u001b[0;34m+\u001b[0m\u001b[0mtab4\u001b[0m\u001b[0;34m\u001b[0m\u001b[0;34m\u001b[0m\u001b[0m\n\u001b[0m",
            "\u001b[0;31mValueError\u001b[0m: operands could not be broadcast together with shapes (2,4) (2,2) "
          ]
        }
      ]
    },
    {
      "cell_type": "code",
      "source": [
        "2*np.eye(2)*np.ones((2,2))"
      ],
      "metadata": {
        "colab": {
          "base_uri": "https://localhost:8080/"
        },
        "id": "eUdJLeWbo774",
        "outputId": "64573d49-e16f-4112-cd08-6392c70a9a2c"
      },
      "execution_count": 35,
      "outputs": [
        {
          "output_type": "execute_result",
          "data": {
            "text/plain": [
              "array([[2., 0.],\n",
              "       [0., 2.]])"
            ]
          },
          "metadata": {},
          "execution_count": 35
        }
      ]
    },
    {
      "cell_type": "code",
      "source": [
        "np.sin(tab2)"
      ],
      "metadata": {
        "colab": {
          "base_uri": "https://localhost:8080/"
        },
        "id": "Qq0uKYD2qWRY",
        "outputId": "6c25447f-4293-452d-f3b7-247517c2d398"
      },
      "execution_count": 36,
      "outputs": [
        {
          "output_type": "execute_result",
          "data": {
            "text/plain": [
              "array([[0.84147098],\n",
              "       [0.90929743]])"
            ]
          },
          "metadata": {},
          "execution_count": 36
        }
      ]
    },
    {
      "cell_type": "code",
      "source": [
        "tab1=np.array([[1,2],[3,4]])\n",
        "tab2=np.array([[5,6],[6,7]])\n",
        "tab2**tab1"
      ],
      "metadata": {
        "colab": {
          "base_uri": "https://localhost:8080/"
        },
        "id": "BtJFBUykqh5g",
        "outputId": "8c643c3f-73c3-4984-b128-a3d6791a66d1"
      },
      "execution_count": 40,
      "outputs": [
        {
          "output_type": "execute_result",
          "data": {
            "text/plain": [
              "array([[   5,   36],\n",
              "       [ 216, 2401]])"
            ]
          },
          "metadata": {},
          "execution_count": 40
        }
      ]
    },
    {
      "cell_type": "code",
      "source": [
        "A=np.arange(1,17).reshape((2,8))"
      ],
      "metadata": {
        "id": "OCr2EwnPrCup"
      },
      "execution_count": 43,
      "outputs": []
    },
    {
      "cell_type": "code",
      "source": [
        "A.T #transpozycja"
      ],
      "metadata": {
        "colab": {
          "base_uri": "https://localhost:8080/"
        },
        "id": "q1R-6dgHrYOf",
        "outputId": "1e36714a-4f42-408d-a8d8-9e5bb464655e"
      },
      "execution_count": 44,
      "outputs": [
        {
          "output_type": "execute_result",
          "data": {
            "text/plain": [
              "array([[ 1,  9],\n",
              "       [ 2, 10],\n",
              "       [ 3, 11],\n",
              "       [ 4, 12],\n",
              "       [ 5, 13],\n",
              "       [ 6, 14],\n",
              "       [ 7, 15],\n",
              "       [ 8, 16]])"
            ]
          },
          "metadata": {},
          "execution_count": 44
        }
      ]
    },
    {
      "cell_type": "markdown",
      "source": [
        "Agregascja"
      ],
      "metadata": {
        "id": "UnYdz8Smrh54"
      }
    },
    {
      "cell_type": "code",
      "source": [
        "A=np.arange(1,17).reshape((2,8))\n",
        "A"
      ],
      "metadata": {
        "colab": {
          "base_uri": "https://localhost:8080/"
        },
        "id": "E__euhbKraTQ",
        "outputId": "50a80e60-dd97-4fe9-bff6-1d7fcbe25623"
      },
      "execution_count": 45,
      "outputs": [
        {
          "output_type": "execute_result",
          "data": {
            "text/plain": [
              "array([[ 1,  2,  3,  4,  5,  6,  7,  8],\n",
              "       [ 9, 10, 11, 12, 13, 14, 15, 16]])"
            ]
          },
          "metadata": {},
          "execution_count": 45
        }
      ]
    },
    {
      "cell_type": "code",
      "source": [
        "np.mean(A) #średnia"
      ],
      "metadata": {
        "colab": {
          "base_uri": "https://localhost:8080/"
        },
        "id": "H-pUYRMRr0sA",
        "outputId": "0ab294d0-68de-4446-d0da-84544987a16e"
      },
      "execution_count": 46,
      "outputs": [
        {
          "output_type": "execute_result",
          "data": {
            "text/plain": [
              "8.5"
            ]
          },
          "metadata": {},
          "execution_count": 46
        }
      ]
    },
    {
      "cell_type": "code",
      "source": [
        "np.mean(A,axis=0) #średnia po kolumnach"
      ],
      "metadata": {
        "colab": {
          "base_uri": "https://localhost:8080/"
        },
        "id": "-clloL8msG_3",
        "outputId": "3fecad67-c188-4966-a790-31055c767bae"
      },
      "execution_count": 47,
      "outputs": [
        {
          "output_type": "execute_result",
          "data": {
            "text/plain": [
              "array([ 5.,  6.,  7.,  8.,  9., 10., 11., 12.])"
            ]
          },
          "metadata": {},
          "execution_count": 47
        }
      ]
    },
    {
      "cell_type": "code",
      "source": [
        "np.mean(A,axis=1) #średnia po wierszach"
      ],
      "metadata": {
        "colab": {
          "base_uri": "https://localhost:8080/"
        },
        "id": "LJc-1rZssYH4",
        "outputId": "31b670b9-a079-41cd-a4a1-b48797018dc2"
      },
      "execution_count": 48,
      "outputs": [
        {
          "output_type": "execute_result",
          "data": {
            "text/plain": [
              "array([ 4.5, 12.5])"
            ]
          },
          "metadata": {},
          "execution_count": 48
        }
      ]
    },
    {
      "cell_type": "code",
      "source": [
        "k=np.random.random(100)\n",
        "k"
      ],
      "metadata": {
        "colab": {
          "base_uri": "https://localhost:8080/"
        },
        "id": "OVMRyhumsjNw",
        "outputId": "5cf68837-18ec-493c-d14a-47a1ef5ece9f"
      },
      "execution_count": 50,
      "outputs": [
        {
          "output_type": "execute_result",
          "data": {
            "text/plain": [
              "array([0.61662132, 0.11089006, 0.02748938, 0.32857192, 0.85506299,\n",
              "       0.89289207, 0.80122557, 0.90801236, 0.0467619 , 0.13289151,\n",
              "       0.32655557, 0.07740316, 0.12804834, 0.63292643, 0.40638254,\n",
              "       0.2235916 , 0.37374504, 0.4200141 , 0.87050175, 0.44478459,\n",
              "       0.9246794 , 0.11715285, 0.47543813, 0.64125879, 0.73130072,\n",
              "       0.08667999, 0.10503334, 0.87696035, 0.25457725, 0.30105211,\n",
              "       0.94098234, 0.35567401, 0.22182721, 0.28523588, 0.59363574,\n",
              "       0.08978105, 0.9194256 , 0.96930379, 0.01919173, 0.2568135 ,\n",
              "       0.9676128 , 0.25584365, 0.46380086, 0.13417112, 0.48084408,\n",
              "       0.97136415, 0.20222235, 0.84561377, 0.28373699, 0.3165736 ,\n",
              "       0.82550644, 0.05480392, 0.10445739, 0.47843945, 0.12431329,\n",
              "       0.79016389, 0.66717729, 0.69029026, 0.59215284, 0.39043629,\n",
              "       0.24740971, 0.35092677, 0.59829049, 0.54470698, 0.75627763,\n",
              "       0.45815949, 0.4740906 , 0.64736936, 0.77520591, 0.98220954,\n",
              "       0.47156137, 0.18777982, 0.35064597, 0.30020089, 0.22014893,\n",
              "       0.47313934, 0.44819733, 0.12044336, 0.35558168, 0.19259082,\n",
              "       0.60264431, 0.9526454 , 0.2751379 , 0.75633097, 0.01749719,\n",
              "       0.80778135, 0.80092512, 0.99591348, 0.14048546, 0.77802968,\n",
              "       0.80462494, 0.36677458, 0.56492606, 0.47162748, 0.9448333 ,\n",
              "       0.76350301, 0.64618974, 0.48095358, 0.00777869, 0.62700872])"
            ]
          },
          "metadata": {},
          "execution_count": 50
        }
      ]
    },
    {
      "cell_type": "code",
      "source": [
        "np.sum(k)"
      ],
      "metadata": {
        "colab": {
          "base_uri": "https://localhost:8080/"
        },
        "id": "Yk0i3xq2ss0w",
        "outputId": "9b968a3e-10e0-4fcc-b175-539d8378f829"
      },
      "execution_count": 52,
      "outputs": [
        {
          "output_type": "execute_result",
          "data": {
            "text/plain": [
              "48.19044736099545"
            ]
          },
          "metadata": {},
          "execution_count": 52
        }
      ]
    },
    {
      "cell_type": "code",
      "source": [
        "np.cumsum(A) #skumulowana suma tablica po kolumnach"
      ],
      "metadata": {
        "colab": {
          "base_uri": "https://localhost:8080/"
        },
        "id": "06Ki_RevtBCw",
        "outputId": "a6f9ff3b-8940-41b5-bee6-2143feaa372c"
      },
      "execution_count": 53,
      "outputs": [
        {
          "output_type": "execute_result",
          "data": {
            "text/plain": [
              "array([  1,   3,   6,  10,  15,  21,  28,  36,  45,  55,  66,  78,  91,\n",
              "       105, 120, 136])"
            ]
          },
          "metadata": {},
          "execution_count": 53
        }
      ]
    },
    {
      "cell_type": "code",
      "source": [
        "np.cumsum(A, axis=1) #skumulowana suma po wierszach"
      ],
      "metadata": {
        "colab": {
          "base_uri": "https://localhost:8080/"
        },
        "id": "_WgwgxtEtQ-x",
        "outputId": "3200c0f0-8f8c-436d-bac1-b26f8789a885"
      },
      "execution_count": 54,
      "outputs": [
        {
          "output_type": "execute_result",
          "data": {
            "text/plain": [
              "array([[  1,   3,   6,  10,  15,  21,  28,  36],\n",
              "       [  9,  19,  30,  42,  55,  69,  84, 100]])"
            ]
          },
          "metadata": {},
          "execution_count": 54
        }
      ]
    },
    {
      "cell_type": "code",
      "source": [
        "A>5 #czy dana wartość maierzy jest wieksza od 5"
      ],
      "metadata": {
        "colab": {
          "base_uri": "https://localhost:8080/"
        },
        "id": "LFSLnmAntezY",
        "outputId": "a1a8f4b0-e6c9-4403-f9ec-540a1631b224"
      },
      "execution_count": 55,
      "outputs": [
        {
          "output_type": "execute_result",
          "data": {
            "text/plain": [
              "array([[False, False, False, False, False,  True,  True,  True],\n",
              "       [ True,  True,  True,  True,  True,  True,  True,  True]])"
            ]
          },
          "metadata": {},
          "execution_count": 55
        }
      ]
    },
    {
      "cell_type": "code",
      "source": [
        "A[A>5] #macierz elementów większych od 5"
      ],
      "metadata": {
        "colab": {
          "base_uri": "https://localhost:8080/"
        },
        "id": "D9oei1gZtrJY",
        "outputId": "264bbba3-223b-4ce7-a857-98b6f39044a4"
      },
      "execution_count": 56,
      "outputs": [
        {
          "output_type": "execute_result",
          "data": {
            "text/plain": [
              "array([ 6,  7,  8,  9, 10, 11, 12, 13, 14, 15, 16])"
            ]
          },
          "metadata": {},
          "execution_count": 56
        }
      ]
    },
    {
      "cell_type": "code",
      "source": [
        "A*(A>5) #mnożenienie macierzy "
      ],
      "metadata": {
        "colab": {
          "base_uri": "https://localhost:8080/"
        },
        "id": "c25Paif6uIew",
        "outputId": "5bafe8aa-3f15-4034-ed4c-3b538a5deb45"
      },
      "execution_count": 58,
      "outputs": [
        {
          "output_type": "execute_result",
          "data": {
            "text/plain": [
              "array([[ 0,  0,  0,  0,  0,  6,  7,  8],\n",
              "       [ 9, 10, 11, 12, 13, 14, 15, 16]])"
            ]
          },
          "metadata": {},
          "execution_count": 58
        }
      ]
    },
    {
      "cell_type": "code",
      "source": [
        "if np.any(A>5): # czy są jakieś elementy wieksze od 5\n",
        "  print('tak')"
      ],
      "metadata": {
        "colab": {
          "base_uri": "https://localhost:8080/"
        },
        "id": "7gHFCh-Fud6A",
        "outputId": "3801a622-8f8f-4da2-91a5-647782a13bd4"
      },
      "execution_count": 59,
      "outputs": [
        {
          "output_type": "stream",
          "name": "stdout",
          "text": [
            "tak\n"
          ]
        }
      ]
    },
    {
      "cell_type": "code",
      "source": [
        "if np.all(A>5): # czy wszystkie elementy wieksze od 5\n",
        "  print('tak')"
      ],
      "metadata": {
        "id": "mP2wUWr7u2XX"
      },
      "execution_count": 60,
      "outputs": []
    },
    {
      "cell_type": "code",
      "source": [
        "L=np.arange(1,17).reshape(4,4)\n",
        "L"
      ],
      "metadata": {
        "colab": {
          "base_uri": "https://localhost:8080/"
        },
        "id": "H3eLEX1su7a4",
        "outputId": "7d6e590b-6a73-4353-f838-41a4f7cef3c1"
      },
      "execution_count": 62,
      "outputs": [
        {
          "output_type": "execute_result",
          "data": {
            "text/plain": [
              "array([[ 1,  2,  3,  4],\n",
              "       [ 5,  6,  7,  8],\n",
              "       [ 9, 10, 11, 12],\n",
              "       [13, 14, 15, 16]])"
            ]
          },
          "metadata": {},
          "execution_count": 62
        }
      ]
    },
    {
      "cell_type": "code",
      "source": [
        "x=np.array([1,2,3,4])\n",
        "y=np.array([0,4,1,6])"
      ],
      "metadata": {
        "id": "AmUqqKHTvEpA"
      },
      "execution_count": 63,
      "outputs": []
    },
    {
      "cell_type": "code",
      "source": [
        "x<y"
      ],
      "metadata": {
        "colab": {
          "base_uri": "https://localhost:8080/"
        },
        "id": "JHK98HHEvPFv",
        "outputId": "032437e5-1745-45ae-aceb-78f18a868dba"
      },
      "execution_count": 64,
      "outputs": [
        {
          "output_type": "execute_result",
          "data": {
            "text/plain": [
              "array([False,  True, False,  True])"
            ]
          },
          "metadata": {},
          "execution_count": 64
        }
      ]
    },
    {
      "cell_type": "code",
      "source": [
        "L[x<y]"
      ],
      "metadata": {
        "colab": {
          "base_uri": "https://localhost:8080/"
        },
        "id": "XO1n4evgvduY",
        "outputId": "1acb8e69-ddda-4578-e8e5-62d5f2ec5cfb"
      },
      "execution_count": 65,
      "outputs": [
        {
          "output_type": "execute_result",
          "data": {
            "text/plain": [
              "array([[ 5,  6,  7,  8],\n",
              "       [13, 14, 15, 16]])"
            ]
          },
          "metadata": {},
          "execution_count": 65
        }
      ]
    },
    {
      "cell_type": "markdown",
      "source": [
        "#Algebra liniowa w pythonie"
      ],
      "metadata": {
        "id": "Jsa2fX0TxMFw"
      }
    },
    {
      "cell_type": "code",
      "source": [
        "A=np.array([[2,3],[0,2]])\n",
        "A"
      ],
      "metadata": {
        "colab": {
          "base_uri": "https://localhost:8080/"
        },
        "id": "L9rPAF5HxO5Y",
        "outputId": "f95197c9-f067-49c0-b8b5-26246063423e"
      },
      "execution_count": 67,
      "outputs": [
        {
          "output_type": "execute_result",
          "data": {
            "text/plain": [
              "array([[2, 3],\n",
              "       [0, 2]])"
            ]
          },
          "metadata": {},
          "execution_count": 67
        }
      ]
    },
    {
      "cell_type": "code",
      "source": [
        "B=np.array([[2,5],[3,8]])\n",
        "B"
      ],
      "metadata": {
        "colab": {
          "base_uri": "https://localhost:8080/"
        },
        "id": "VBxFHcwvxKrR",
        "outputId": "2a8463df-19eb-412d-b3ed-276e764ad4bf"
      },
      "execution_count": 69,
      "outputs": [
        {
          "output_type": "execute_result",
          "data": {
            "text/plain": [
              "array([[2, 5],\n",
              "       [3, 8]])"
            ]
          },
          "metadata": {},
          "execution_count": 69
        }
      ]
    },
    {
      "cell_type": "code",
      "source": [
        "D=np.linalg.inv(B)\n",
        "D"
      ],
      "metadata": {
        "colab": {
          "base_uri": "https://localhost:8080/"
        },
        "id": "iR8_b6Vmx5_o",
        "outputId": "33fdd7ed-d5fd-45a7-f41d-a339292370b1"
      },
      "execution_count": 80,
      "outputs": [
        {
          "output_type": "execute_result",
          "data": {
            "text/plain": [
              "array([[ 8., -5.],\n",
              "       [-3.,  2.]])"
            ]
          },
          "metadata": {},
          "execution_count": 80
        }
      ]
    },
    {
      "cell_type": "code",
      "source": [
        "C=np.dot(B,np.dot(A,np.linalg.inv(B))) #BAB^-1\n",
        "C"
      ],
      "metadata": {
        "colab": {
          "base_uri": "https://localhost:8080/"
        },
        "id": "QAMpJ1AJyQN4",
        "outputId": "5f6fad39-f51b-4ae8-8201-858d3d4538ca"
      },
      "execution_count": 93,
      "outputs": [
        {
          "output_type": "execute_result",
          "data": {
            "text/plain": [
              "array([[-16.,  12.],\n",
              "       [-27.,  20.]])"
            ]
          },
          "metadata": {},
          "execution_count": 93
        }
      ]
    },
    {
      "cell_type": "code",
      "source": [
        "np.linalg.eig(A)[0] #wektor własny"
      ],
      "metadata": {
        "colab": {
          "base_uri": "https://localhost:8080/"
        },
        "id": "g1AebXFdzJeo",
        "outputId": "f9bf014b-3c4d-490f-bc4c-6344690f47b5"
      },
      "execution_count": 88,
      "outputs": [
        {
          "output_type": "execute_result",
          "data": {
            "text/plain": [
              "array([2., 2.])"
            ]
          },
          "metadata": {},
          "execution_count": 88
        }
      ]
    },
    {
      "cell_type": "code",
      "source": [
        "np.linalg.eig(A)[1]"
      ],
      "metadata": {
        "colab": {
          "base_uri": "https://localhost:8080/"
        },
        "id": "4ebspfXfzVcQ",
        "outputId": "0b1043a1-7cd2-4b90-b4e9-67c0006c4b04"
      },
      "execution_count": 89,
      "outputs": [
        {
          "output_type": "execute_result",
          "data": {
            "text/plain": [
              "array([[ 1.00000000e+00, -1.00000000e+00],\n",
              "       [ 0.00000000e+00,  1.48029737e-16]])"
            ]
          },
          "metadata": {},
          "execution_count": 89
        }
      ]
    },
    {
      "cell_type": "code",
      "source": [
        "np.linalg.eig(A)[1][:,0]"
      ],
      "metadata": {
        "colab": {
          "base_uri": "https://localhost:8080/"
        },
        "id": "jF6Y9GRhzkSI",
        "outputId": "57cb73c7-db00-4e8d-e9c1-dd9205f18e0c"
      },
      "execution_count": 90,
      "outputs": [
        {
          "output_type": "execute_result",
          "data": {
            "text/plain": [
              "array([1., 0.])"
            ]
          },
          "metadata": {},
          "execution_count": 90
        }
      ]
    },
    {
      "cell_type": "code",
      "source": [
        "np.linalg.eig(C)[0] "
      ],
      "metadata": {
        "colab": {
          "base_uri": "https://localhost:8080/"
        },
        "id": "_YUdKeFYztW4",
        "outputId": "cb2b956e-62bc-47e1-f692-8343036c838e"
      },
      "execution_count": 94,
      "outputs": [
        {
          "output_type": "execute_result",
          "data": {
            "text/plain": [
              "array([2.+1.97405238e-07j, 2.-1.97405238e-07j])"
            ]
          },
          "metadata": {},
          "execution_count": 94
        }
      ]
    }
  ]
}