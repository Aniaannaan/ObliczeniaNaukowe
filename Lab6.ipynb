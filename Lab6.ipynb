{
  "nbformat": 4,
  "nbformat_minor": 0,
  "metadata": {
    "colab": {
      "name": "Untitled5.ipynb",
      "provenance": [],
      "authorship_tag": "ABX9TyMAOr99SO4XC00Z/SHMvV+d",
      "include_colab_link": true
    },
    "kernelspec": {
      "name": "python3",
      "display_name": "Python 3"
    },
    "language_info": {
      "name": "python"
    }
  },
  "cells": [
    {
      "cell_type": "markdown",
      "metadata": {
        "id": "view-in-github",
        "colab_type": "text"
      },
      "source": [
        "<a href=\"https://colab.research.google.com/github/Aniaannaan/ObliczeniaNaukowe/blob/main/Lab6.ipynb\" target=\"_parent\"><img src=\"https://colab.research.google.com/assets/colab-badge.svg\" alt=\"Open In Colab\"/></a>"
      ]
    },
    {
      "cell_type": "markdown",
      "source": [
        "#np.linalg.inv - odwrotność macierzy\n",
        "#np.linalg.det - wyznacznik\n",
        "#np.linalg.eig - wartości i wektory własne\n",
        "#np.dot - iloczyn macierzowy\n",
        "#np.inner - iloczyn skalarny\n",
        "#np.cross - iloczyn wektorowy\n",
        "\n",
        "#np.linalg.norm - norma macierzy lub wektora"
      ],
      "metadata": {
        "id": "W3IIRovpYHem"
      }
    },
    {
      "cell_type": "code",
      "source": [
        "import numpy as np\n",
        "n=np.random.randint(low=0, high=10, size=(5,5))\n",
        "n"
      ],
      "metadata": {
        "colab": {
          "base_uri": "https://localhost:8080/"
        },
        "id": "lXDErogIYIum",
        "outputId": "232b659f-ffbb-407c-d81a-4f9ffe51e866"
      },
      "execution_count": 4,
      "outputs": [
        {
          "output_type": "execute_result",
          "data": {
            "text/plain": [
              "array([[5, 7, 9, 4, 2],\n",
              "       [4, 8, 6, 5, 7],\n",
              "       [1, 6, 3, 0, 0],\n",
              "       [6, 8, 3, 7, 5],\n",
              "       [0, 3, 5, 7, 9]])"
            ]
          },
          "metadata": {},
          "execution_count": 4
        }
      ]
    },
    {
      "cell_type": "code",
      "source": [
        "%timeit np.linalg.eig(n)"
      ],
      "metadata": {
        "colab": {
          "base_uri": "https://localhost:8080/"
        },
        "id": "COyymk41Yt9j",
        "outputId": "47b795b8-deda-4314-98c8-2e897ccc6989"
      },
      "execution_count": 6,
      "outputs": [
        {
          "output_type": "stream",
          "name": "stdout",
          "text": [
            "The slowest run took 41.80 times longer than the fastest. This could mean that an intermediate result is being cached.\n",
            "10000 loops, best of 5: 33.6 µs per loop\n"
          ]
        }
      ]
    },
    {
      "cell_type": "code",
      "source": [
        "M=np.linalg.eig(n)\n",
        "M"
      ],
      "metadata": {
        "colab": {
          "base_uri": "https://localhost:8080/"
        },
        "id": "TpMmlIeSZCEk",
        "outputId": "4842738b-879f-4886-f542-fc382e0b7184"
      },
      "execution_count": 8,
      "outputs": [
        {
          "output_type": "execute_result",
          "data": {
            "text/plain": [
              "(array([24.05262028+0.j        , -1.0110187 +2.40740181j,\n",
              "        -1.0110187 -2.40740181j,  4.98470856+1.52910623j,\n",
              "         4.98470856-1.52910623j]),\n",
              " array([[-0.4394982 +0.j        ,  0.54313136+0.j        ,\n",
              "          0.54313136-0.j        , -0.59374167-0.00282003j,\n",
              "         -0.59374167+0.00282003j],\n",
              "        [-0.53320635+0.j        , -0.15679009-0.29861668j,\n",
              "         -0.15679009+0.29861668j,  0.11930899-0.07440196j,\n",
              "          0.11930899+0.07440196j],\n",
              "        [-0.17284007+0.j        , -0.1242251 +0.37213498j,\n",
              "         -0.1242251 -0.37213498j, -0.07082194-0.17178217j,\n",
              "         -0.07082194+0.17178217j],\n",
              "        [-0.55946997+0.j        , -0.48631228+0.00996188j,\n",
              "         -0.48631228-0.00996188j, -0.35546945+0.28975057j,\n",
              "         -0.35546945-0.28975057j],\n",
              "        [-0.42385372+0.j        ,  0.44801648+0.00439492j,\n",
              "          0.44801648-0.00439492j,  0.61875181+0.j        ,\n",
              "          0.61875181-0.j        ]]))"
            ]
          },
          "metadata": {},
          "execution_count": 8
        }
      ]
    },
    {
      "cell_type": "code",
      "source": [
        "type(M)"
      ],
      "metadata": {
        "colab": {
          "base_uri": "https://localhost:8080/"
        },
        "id": "-5BvzmmPZdqc",
        "outputId": "9f7c0228-5af2-46c3-fa8d-8dae5627d96e"
      },
      "execution_count": 11,
      "outputs": [
        {
          "output_type": "execute_result",
          "data": {
            "text/plain": [
              "tuple"
            ]
          },
          "metadata": {},
          "execution_count": 11
        }
      ]
    },
    {
      "cell_type": "code",
      "source": [
        "np.max(M[0])"
      ],
      "metadata": {
        "colab": {
          "base_uri": "https://localhost:8080/"
        },
        "id": "KSaEPiZgZ1Hl",
        "outputId": "a6e3e8da-0dd5-401d-b600-f8198c121172"
      },
      "execution_count": 14,
      "outputs": [
        {
          "output_type": "execute_result",
          "data": {
            "text/plain": [
              "(24.052620277113718+0j)"
            ]
          },
          "metadata": {},
          "execution_count": 14
        }
      ]
    },
    {
      "cell_type": "code",
      "source": [
        "tab=np.array([[2,3],[4,5]])\n",
        "tab"
      ],
      "metadata": {
        "colab": {
          "base_uri": "https://localhost:8080/"
        },
        "id": "o4l_RiJpaZqi",
        "outputId": "f50c803e-fbbb-49d0-a5a9-5a7314abf74c"
      },
      "execution_count": 18,
      "outputs": [
        {
          "output_type": "execute_result",
          "data": {
            "text/plain": [
              "array([[2, 3],\n",
              "       [4, 5]])"
            ]
          },
          "metadata": {},
          "execution_count": 18
        }
      ]
    },
    {
      "cell_type": "code",
      "source": [
        "np.linalg.det(tab)"
      ],
      "metadata": {
        "colab": {
          "base_uri": "https://localhost:8080/"
        },
        "id": "VOb0hTqgboXO",
        "outputId": "a93e9ac0-4009-4421-d88a-b4a6546e140e"
      },
      "execution_count": 20,
      "outputs": [
        {
          "output_type": "execute_result",
          "data": {
            "text/plain": [
              "-2.0"
            ]
          },
          "metadata": {},
          "execution_count": 20
        }
      ]
    },
    {
      "cell_type": "code",
      "source": [
        "c=np.dot(tab,np.dot(np.diag([2,3]),np.linalg.inv(tab)))\n",
        "c"
      ],
      "metadata": {
        "colab": {
          "base_uri": "https://localhost:8080/"
        },
        "id": "KGYDwi3sb1Zl",
        "outputId": "505c2b24-06bc-4ec8-87d5-53c1db5ef5a9"
      },
      "execution_count": 29,
      "outputs": [
        {
          "output_type": "execute_result",
          "data": {
            "text/plain": [
              "array([[ 8., -3.],\n",
              "       [10., -3.]])"
            ]
          },
          "metadata": {},
          "execution_count": 29
        }
      ]
    },
    {
      "cell_type": "code",
      "source": [
        "np.linalg.eig(c)"
      ],
      "metadata": {
        "colab": {
          "base_uri": "https://localhost:8080/"
        },
        "id": "hgAif8YwcQnb",
        "outputId": "f3102aff-88a2-4f50-cc17-4708b2e7e619"
      },
      "execution_count": 28,
      "outputs": [
        {
          "output_type": "execute_result",
          "data": {
            "text/plain": [
              "(array([3., 2.]), array([[0.51449576, 0.4472136 ],\n",
              "        [0.85749293, 0.89442719]]))"
            ]
          },
          "metadata": {},
          "execution_count": 28
        }
      ]
    },
    {
      "cell_type": "code",
      "source": [
        "tab @ tab"
      ],
      "metadata": {
        "colab": {
          "base_uri": "https://localhost:8080/"
        },
        "id": "PJ88yXGHckGl",
        "outputId": "f982ba22-6955-4137-90bf-a4189936210f"
      },
      "execution_count": 34,
      "outputs": [
        {
          "output_type": "execute_result",
          "data": {
            "text/plain": [
              "array([[16, 21],\n",
              "       [28, 37]])"
            ]
          },
          "metadata": {},
          "execution_count": 34
        }
      ]
    },
    {
      "cell_type": "code",
      "source": [
        "np.dot(tab, tab)"
      ],
      "metadata": {
        "colab": {
          "base_uri": "https://localhost:8080/"
        },
        "id": "O68eXAq7crPt",
        "outputId": "a0ac733f-c590-4fcb-cdcd-c6970f2fe4ae"
      },
      "execution_count": 33,
      "outputs": [
        {
          "output_type": "execute_result",
          "data": {
            "text/plain": [
              "array([[16, 21],\n",
              "       [28, 37]])"
            ]
          },
          "metadata": {},
          "execution_count": 33
        }
      ]
    },
    {
      "cell_type": "markdown",
      "source": [
        "SVD"
      ],
      "metadata": {
        "id": "i1tCCJtfdmWQ"
      }
    },
    {
      "cell_type": "code",
      "source": [
        "SVD=np.linalg.svd(n) #rozkład svd\n",
        "SVD"
      ],
      "metadata": {
        "colab": {
          "base_uri": "https://localhost:8080/"
        },
        "id": "I-6Vw23hcu_t",
        "outputId": "e07d4d6f-f38d-438e-aea0-d00ef2af7e21"
      },
      "execution_count": 37,
      "outputs": [
        {
          "output_type": "execute_result",
          "data": {
            "text/plain": [
              "(array([[-0.47919694,  0.48244684, -0.50160249, -0.53040248, -0.06843597],\n",
              "        [-0.53739063, -0.03426227,  0.00998944,  0.3457592 ,  0.76836723],\n",
              "        [-0.19745616,  0.4460667 , -0.10409678,  0.74065477, -0.45014435],\n",
              "        [-0.50696575,  0.04530329,  0.79006   , -0.21351446, -0.26673979],\n",
              "        [-0.43078811, -0.75169359, -0.33654749,  0.0704689 , -0.36214399]]),\n",
              " array([25.49204299,  8.45261513,  4.93973402,  3.26541267,  1.28263382]),\n",
              " array([[-0.30538148, -0.55650035, -0.4630591 , -0.43809819, -0.43668725],\n",
              "        [ 0.35410007,  0.45983112,  0.21911444, -0.37695506, -0.68779519],\n",
              "        [ 0.43893224,  0.25405313, -0.82582049,  0.24659725, -0.00241031],\n",
              "        [-0.554113  ,  0.61262574, -0.234366  , -0.42693926,  0.2836264 ],\n",
              "        [ 0.53070949, -0.19750797,  0.02565599, -0.65029803,  0.50575911]]))"
            ]
          },
          "metadata": {},
          "execution_count": 37
        }
      ]
    },
    {
      "cell_type": "code",
      "source": [
        "SVD[0] @ np.diag(SVD[1]) @ SVD[2]-n"
      ],
      "metadata": {
        "colab": {
          "base_uri": "https://localhost:8080/"
        },
        "id": "p8c0np5xdLZW",
        "outputId": "5306463b-15d2-436a-f056-ceb7df61cd98"
      },
      "execution_count": 40,
      "outputs": [
        {
          "output_type": "execute_result",
          "data": {
            "text/plain": [
              "array([[ 0.00000000e+00, -8.88178420e-16, -3.55271368e-15,\n",
              "         0.00000000e+00, -2.88657986e-15],\n",
              "       [ 1.77635684e-15,  0.00000000e+00,  0.00000000e+00,\n",
              "         1.77635684e-15,  0.00000000e+00],\n",
              "       [-3.33066907e-16,  0.00000000e+00,  2.22044605e-15,\n",
              "        -9.72726062e-17,  6.94893506e-16],\n",
              "       [-8.88178420e-16, -3.55271368e-15, -3.99680289e-15,\n",
              "         0.00000000e+00, -1.77635684e-15],\n",
              "       [ 1.28161174e-15,  3.10862447e-15,  8.88178420e-16,\n",
              "         8.88178420e-16,  0.00000000e+00]])"
            ]
          },
          "metadata": {},
          "execution_count": 40
        }
      ]
    },
    {
      "cell_type": "code",
      "source": [
        "(SVD[0] @ SVD[0].T).round(0)"
      ],
      "metadata": {
        "colab": {
          "base_uri": "https://localhost:8080/"
        },
        "id": "pSWqyJyEeD8-",
        "outputId": "918939a1-92c0-4910-a7fa-8c3c69bddb65"
      },
      "execution_count": 43,
      "outputs": [
        {
          "output_type": "execute_result",
          "data": {
            "text/plain": [
              "array([[ 1., -0.,  0.,  0.,  0.],\n",
              "       [-0.,  1., -0.,  0., -0.],\n",
              "       [ 0., -0.,  1., -0.,  0.],\n",
              "       [ 0.,  0., -0.,  1., -0.],\n",
              "       [ 0., -0.,  0., -0.,  1.]])"
            ]
          },
          "metadata": {},
          "execution_count": 43
        }
      ]
    },
    {
      "cell_type": "code",
      "source": [
        "M=np.array([[1,2,3],[1,2,1],[0,1,0]])\n",
        "M"
      ],
      "metadata": {
        "colab": {
          "base_uri": "https://localhost:8080/"
        },
        "id": "ClcEK8Piefif",
        "outputId": "3faf1d37-df26-4b2e-84d2-9f75918398e3"
      },
      "execution_count": 44,
      "outputs": [
        {
          "output_type": "execute_result",
          "data": {
            "text/plain": [
              "array([[1, 2, 3],\n",
              "       [1, 2, 1],\n",
              "       [0, 1, 0]])"
            ]
          },
          "metadata": {},
          "execution_count": 44
        }
      ]
    },
    {
      "cell_type": "code",
      "source": [
        "np.linalg.eig(M)"
      ],
      "metadata": {
        "colab": {
          "base_uri": "https://localhost:8080/"
        },
        "id": "DdOyA8z5fSgC",
        "outputId": "882f71aa-5c09-4848-c5f2-1b2fb26419a5"
      },
      "execution_count": 45,
      "outputs": [
        {
          "output_type": "execute_result",
          "data": {
            "text/plain": [
              "(array([ 3.45667834+0.j        , -0.22833917+0.72556968j,\n",
              "        -0.22833917-0.72556968j]),\n",
              " array([[ 0.74635087+0.j        , -0.85289345+0.j        ,\n",
              "         -0.85289345-0.j        ],\n",
              "        [ 0.63933662+0.j        ,  0.21479077+0.23188188j,\n",
              "          0.21479077-0.23188188j],\n",
              "        [ 0.18495693+0.j        ,  0.20602029-0.36086579j,\n",
              "          0.20602029+0.36086579j]]))"
            ]
          },
          "metadata": {},
          "execution_count": 45
        }
      ]
    },
    {
      "cell_type": "code",
      "source": [
        "SVD=np.linalg.svd(M)\n",
        "SVD"
      ],
      "metadata": {
        "colab": {
          "base_uri": "https://localhost:8080/"
        },
        "id": "NsbE1tpefc6H",
        "outputId": "387e3795-a14b-44cd-e40c-eb9520306acb"
      },
      "execution_count": 47,
      "outputs": [
        {
          "output_type": "execute_result",
          "data": {
            "text/plain": [
              "(array([[-0.8384388 , -0.50673863, -0.20058996],\n",
              "        [-0.52438113,  0.6498237 ,  0.55023049],\n",
              "        [-0.14847494,  0.56652018, -0.81056158]]),\n",
              " array([4.39972444, 1.22684012, 0.37052417]),\n",
              " array([[-0.3097512 , -0.65324882, -0.69088362],\n",
              "        [ 0.11662894,  0.69502969, -0.70945854],\n",
              "        [ 0.94363758, -0.30033266, -0.13909856]]))"
            ]
          },
          "metadata": {},
          "execution_count": 47
        }
      ]
    },
    {
      "cell_type": "code",
      "source": [
        "N=M[0:2]\n",
        "N"
      ],
      "metadata": {
        "colab": {
          "base_uri": "https://localhost:8080/"
        },
        "id": "jYkyk3rNfj-P",
        "outputId": "02be9ac8-53c7-460a-85ed-49704463d707"
      },
      "execution_count": 67,
      "outputs": [
        {
          "output_type": "execute_result",
          "data": {
            "text/plain": [
              "array([[1, 2, 3],\n",
              "       [1, 2, 1]])"
            ]
          },
          "metadata": {},
          "execution_count": 67
        }
      ]
    },
    {
      "cell_type": "code",
      "source": [
        "SVD=np.linalg.svd(N)\n",
        "SVD"
      ],
      "metadata": {
        "colab": {
          "base_uri": "https://localhost:8080/"
        },
        "id": "v0YKNRZpgLs_",
        "outputId": "ece2165f-0092-46c8-c79e-f147ce5e6ca8"
      },
      "execution_count": 68,
      "outputs": [
        {
          "output_type": "execute_result",
          "data": {
            "text/plain": [
              "(array([[-0.85065081, -0.52573111],\n",
              "        [-0.52573111,  0.85065081]]),\n",
              " array([4.3525018, 1.0274863]),\n",
              " array([[-3.16227766e-01, -6.32455532e-01, -7.07106781e-01],\n",
              "        [ 3.16227766e-01,  6.32455532e-01, -7.07106781e-01],\n",
              "        [-8.94427191e-01,  4.47213595e-01, -2.22044605e-16]]))"
            ]
          },
          "metadata": {},
          "execution_count": 68
        }
      ]
    },
    {
      "cell_type": "code",
      "source": [
        "np.concatenate([N,N]) #łączenie macierzy"
      ],
      "metadata": {
        "colab": {
          "base_uri": "https://localhost:8080/"
        },
        "id": "6Hlve8sEgm8n",
        "outputId": "cf0c7243-7327-43ff-d9fb-2ff2b26c6873"
      },
      "execution_count": 69,
      "outputs": [
        {
          "output_type": "execute_result",
          "data": {
            "text/plain": [
              "array([[1, 2, 3],\n",
              "       [1, 2, 1],\n",
              "       [1, 2, 3],\n",
              "       [1, 2, 1]])"
            ]
          },
          "metadata": {},
          "execution_count": 69
        }
      ]
    },
    {
      "cell_type": "code",
      "source": [
        "a=np.diag(SVD[1])\n",
        "a"
      ],
      "metadata": {
        "colab": {
          "base_uri": "https://localhost:8080/"
        },
        "id": "QQgxo6Sfg0Du",
        "outputId": "a0cfe5a7-66f2-4903-a94d-b4d15b5daf8d"
      },
      "execution_count": 70,
      "outputs": [
        {
          "output_type": "execute_result",
          "data": {
            "text/plain": [
              "array([[4.3525018, 0.       ],\n",
              "       [0.       , 1.0274863]])"
            ]
          },
          "metadata": {},
          "execution_count": 70
        }
      ]
    },
    {
      "cell_type": "code",
      "source": [
        "b=np.concatenate([a,np.zeros((2,1))],axis=1)\n",
        "b #łączenie macierzy kolumnami"
      ],
      "metadata": {
        "colab": {
          "base_uri": "https://localhost:8080/"
        },
        "id": "ZO8lfkOahY7I",
        "outputId": "2d89f309-c9a0-4c25-b977-563b54476a39"
      },
      "execution_count": 71,
      "outputs": [
        {
          "output_type": "execute_result",
          "data": {
            "text/plain": [
              "array([[4.3525018, 0.       , 0.       ],\n",
              "       [0.       , 1.0274863, 0.       ]])"
            ]
          },
          "metadata": {},
          "execution_count": 71
        }
      ]
    },
    {
      "cell_type": "code",
      "source": [
        "SVD[0] @ b @ SVD[2]"
      ],
      "metadata": {
        "colab": {
          "base_uri": "https://localhost:8080/"
        },
        "id": "PmvJ0xjNhxfw",
        "outputId": "6876dbac-01d6-4900-ba52-1af888efcf12"
      },
      "execution_count": 72,
      "outputs": [
        {
          "output_type": "execute_result",
          "data": {
            "text/plain": [
              "array([[1., 2., 3.],\n",
              "       [1., 2., 1.]])"
            ]
          },
          "metadata": {},
          "execution_count": 72
        }
      ]
    },
    {
      "cell_type": "markdown",
      "source": [
        "Zadanie"
      ],
      "metadata": {
        "id": "xB3PfF_9i29h"
      }
    },
    {
      "cell_type": "code",
      "source": [
        "M=np.array([[1,2,3],[1,2,1],[0,1,0]])\n",
        "M"
      ],
      "metadata": {
        "colab": {
          "base_uri": "https://localhost:8080/"
        },
        "id": "IZc7FA7aiIBC",
        "outputId": "9268eecb-3ded-4666-b942-e3d04a5e383d"
      },
      "execution_count": 73,
      "outputs": [
        {
          "output_type": "execute_result",
          "data": {
            "text/plain": [
              "array([[1, 2, 3],\n",
              "       [1, 2, 1],\n",
              "       [0, 1, 0]])"
            ]
          },
          "metadata": {},
          "execution_count": 73
        }
      ]
    },
    {
      "cell_type": "code",
      "source": [
        "np.linalg.matrix_power(M,20)"
      ],
      "metadata": {
        "colab": {
          "base_uri": "https://localhost:8080/"
        },
        "id": "L46tKXlbi4dg",
        "outputId": "f1a84ae1-bd44-4ed3-e8f8-b616d81b9248"
      },
      "execution_count": 78,
      "outputs": [
        {
          "output_type": "execute_result",
          "data": {
            "text/plain": [
              "array([[16968908951, 41687151125, 26786952325],\n",
              "       [14535850675, 35709909551, 22946150525],\n",
              "       [ 4205149925, 10330700750,  6638208201]])"
            ]
          },
          "metadata": {},
          "execution_count": 78
        }
      ]
    },
    {
      "cell_type": "code",
      "source": [
        "A=np.linalg.eig(M)\n",
        "A"
      ],
      "metadata": {
        "colab": {
          "base_uri": "https://localhost:8080/"
        },
        "id": "VsQf1d43jE0v",
        "outputId": "b9f15eb2-d208-44c0-dda4-e37a92f1cbf7"
      },
      "execution_count": 81,
      "outputs": [
        {
          "output_type": "execute_result",
          "data": {
            "text/plain": [
              "(array([ 3.45667834+0.j        , -0.22833917+0.72556968j,\n",
              "        -0.22833917-0.72556968j]),\n",
              " array([[ 0.74635087+0.j        , -0.85289345+0.j        ,\n",
              "         -0.85289345-0.j        ],\n",
              "        [ 0.63933662+0.j        ,  0.21479077+0.23188188j,\n",
              "          0.21479077-0.23188188j],\n",
              "        [ 0.18495693+0.j        ,  0.20602029-0.36086579j,\n",
              "          0.20602029+0.36086579j]]))"
            ]
          },
          "metadata": {},
          "execution_count": 81
        }
      ]
    },
    {
      "cell_type": "code",
      "source": [
        "JA=np.diag(A[0])\n",
        "JA"
      ],
      "metadata": {
        "colab": {
          "base_uri": "https://localhost:8080/"
        },
        "id": "Awx9kOKVkhR6",
        "outputId": "c9a47353-7d0f-456b-becd-d3d3479b5418"
      },
      "execution_count": 83,
      "outputs": [
        {
          "output_type": "execute_result",
          "data": {
            "text/plain": [
              "array([[ 3.45667834+0.j        ,  0.        +0.j        ,\n",
              "         0.        +0.j        ],\n",
              "       [ 0.        +0.j        , -0.22833917+0.72556968j,\n",
              "         0.        +0.j        ],\n",
              "       [ 0.        +0.j        ,  0.        +0.j        ,\n",
              "        -0.22833917-0.72556968j]])"
            ]
          },
          "metadata": {},
          "execution_count": 83
        }
      ]
    },
    {
      "cell_type": "code",
      "source": [
        "P=A[1]\n",
        "P"
      ],
      "metadata": {
        "colab": {
          "base_uri": "https://localhost:8080/"
        },
        "id": "Ni3jTwhrk0tx",
        "outputId": "2d5eb0f9-4d8b-4a42-eb1c-2d69e09d54eb"
      },
      "execution_count": 85,
      "outputs": [
        {
          "output_type": "execute_result",
          "data": {
            "text/plain": [
              "array([[ 0.74635087+0.j        , -0.85289345+0.j        ,\n",
              "        -0.85289345-0.j        ],\n",
              "       [ 0.63933662+0.j        ,  0.21479077+0.23188188j,\n",
              "         0.21479077-0.23188188j],\n",
              "       [ 0.18495693+0.j        ,  0.20602029-0.36086579j,\n",
              "         0.20602029+0.36086579j]])"
            ]
          },
          "metadata": {},
          "execution_count": 85
        }
      ]
    },
    {
      "cell_type": "code",
      "source": [
        "P @ JA**20 @ np.linalg.inv(P)"
      ],
      "metadata": {
        "colab": {
          "base_uri": "https://localhost:8080/"
        },
        "id": "tcVwdsyHk6xZ",
        "outputId": "06cb5aed-6964-4bcd-eb65-01f95da24e8b"
      },
      "execution_count": 86,
      "outputs": [
        {
          "output_type": "execute_result",
          "data": {
            "text/plain": [
              "array([[1.69689090e+10-1.64637822e-06j, 4.16871511e+10+3.29275644e-06j,\n",
              "        2.67869523e+10+7.78525577e-20j],\n",
              "       [1.45358507e+10-1.41031507e-06j, 3.57099096e+10+2.82063013e-06j,\n",
              "        2.29461505e+10-8.64595148e-21j],\n",
              "       [4.20514992e+09-4.07997195e-07j, 1.03307007e+10+8.15994389e-07j,\n",
              "        6.63820820e+09+4.10216869e-20j]])"
            ]
          },
          "metadata": {},
          "execution_count": 86
        }
      ]
    },
    {
      "cell_type": "markdown",
      "source": [
        "#Rozwiązywanie układów równań\n",
        "````np.linalg.cond ````- współczynnik uwarunkowania\n",
        "\n",
        "````np.linalg.solve````- rozwiązywania równania macierzowegp"
      ],
      "metadata": {
        "id": "nh4ASo31mYqT"
      }
    },
    {
      "cell_type": "code",
      "source": [
        "np.linalg.cond(M)"
      ],
      "metadata": {
        "colab": {
          "base_uri": "https://localhost:8080/"
        },
        "id": "2Q3WkjzVlUyq",
        "outputId": "233f98b5-4ba1-45ce-bd44-96c0c686e637"
      },
      "execution_count": 87,
      "outputs": [
        {
          "output_type": "execute_result",
          "data": {
            "text/plain": [
              "11.87432495287239"
            ]
          },
          "metadata": {},
          "execution_count": 87
        }
      ]
    },
    {
      "cell_type": "code",
      "source": [
        "A=np.array([[1,0,2],[3,2,1],[1,1,1]])\n",
        "A\n",
        "np.linalg.cond(A)"
      ],
      "metadata": {
        "colab": {
          "base_uri": "https://localhost:8080/"
        },
        "id": "dHhDGkAQmp2x",
        "outputId": "0e5cc711-7270-436b-f0f7-686eec862b38"
      },
      "execution_count": 90,
      "outputs": [
        {
          "output_type": "execute_result",
          "data": {
            "text/plain": [
              "10.617346008950063"
            ]
          },
          "metadata": {},
          "execution_count": 90
        }
      ]
    },
    {
      "cell_type": "code",
      "source": [
        "b1=np.array([20.001,-9.9999,100.00001])\n",
        "b1"
      ],
      "metadata": {
        "colab": {
          "base_uri": "https://localhost:8080/"
        },
        "id": "V2iI--ZingHa",
        "outputId": "34aaa097-7986-4509-ee3a-9717523cd348"
      },
      "execution_count": 92,
      "outputs": [
        {
          "output_type": "execute_result",
          "data": {
            "text/plain": [
              "array([ 20.001  ,  -9.9999 , 100.00001])"
            ]
          },
          "metadata": {},
          "execution_count": 92
        }
      ]
    },
    {
      "cell_type": "code",
      "source": [
        "b2=np.array([20,-10,100])\n",
        "b2"
      ],
      "metadata": {
        "colab": {
          "base_uri": "https://localhost:8080/"
        },
        "id": "Q1QWNOhinz7-",
        "outputId": "73f8ac61-5941-4474-d61d-cc147138ad78"
      },
      "execution_count": 93,
      "outputs": [
        {
          "output_type": "execute_result",
          "data": {
            "text/plain": [
              "array([ 20, -10, 100])"
            ]
          },
          "metadata": {},
          "execution_count": 93
        }
      ]
    },
    {
      "cell_type": "code",
      "source": [
        "np.linalg.solve(A,b1)"
      ],
      "metadata": {
        "colab": {
          "base_uri": "https://localhost:8080/"
        },
        "id": "pqPhu9hToDab",
        "outputId": "0077404c-cd6a-4593-e5df-d6a18685c7c3"
      },
      "execution_count": 95,
      "outputs": [
        {
          "output_type": "execute_result",
          "data": {
            "text/plain": [
              "array([-133.33294667,  156.66598333,   76.66697333])"
            ]
          },
          "metadata": {},
          "execution_count": 95
        }
      ]
    },
    {
      "cell_type": "code",
      "source": [
        ",np.linalg.solve(A,b2)"
      ],
      "metadata": {
        "colab": {
          "base_uri": "https://localhost:8080/"
        },
        "id": "0uhGIdW-n8Cu",
        "outputId": "64a48784-1632-4a3b-eaad-1f2246bdb6e3"
      },
      "execution_count": 94,
      "outputs": [
        {
          "output_type": "execute_result",
          "data": {
            "text/plain": [
              "array([-133.33333333,  156.66666667,   76.66666667])"
            ]
          },
          "metadata": {},
          "execution_count": 94
        }
      ]
    },
    {
      "cell_type": "code",
      "source": [
        ""
      ],
      "metadata": {
        "id": "frY5n34uoBsK"
      },
      "execution_count": null,
      "outputs": []
    }
  ]
}