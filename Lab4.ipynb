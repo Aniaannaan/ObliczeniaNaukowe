{
  "nbformat": 4,
  "nbformat_minor": 0,
  "metadata": {
    "colab": {
      "name": "Untitled2.ipynb",
      "provenance": [],
      "authorship_tag": "ABX9TyOxxGW7/r4/OHWg8VYPDOJt",
      "include_colab_link": true
    },
    "kernelspec": {
      "name": "python3",
      "display_name": "Python 3"
    },
    "language_info": {
      "name": "python"
    }
  },
  "cells": [
    {
      "cell_type": "markdown",
      "metadata": {
        "id": "view-in-github",
        "colab_type": "text"
      },
      "source": [
        "<a href=\"https://colab.research.google.com/github/Aniaannaan/ObliczeniaNaukowe/blob/main/Lab4.ipynb\" target=\"_parent\"><img src=\"https://colab.research.google.com/assets/colab-badge.svg\" alt=\"Open In Colab\"/></a>"
      ]
    },
    {
      "cell_type": "code",
      "execution_count": null,
      "metadata": {
        "id": "1zP8DBqAbQov"
      },
      "outputs": [],
      "source": [
        ""
      ]
    },
    {
      "cell_type": "markdown",
      "source": [
        "słownik=klucz:wartość, klucz2:wartość2\n",
        "słownik.keys()\n",
        "        .vals()"
      ],
      "metadata": {
        "id": "NZFsYGv2bSgv"
      }
    },
    {
      "cell_type": "markdown",
      "source": [
        "Zadanie 1\n",
        "Dany jest słownik student={'imie':'Jan', 'nazwisko':'kowalski','wiek':25, 'wzrost':188, 'waga':80, 'miasto':'Toruń'}\n",
        "\n",
        "Wypisz jego elementy w postaci \"klucz -> wartość \"\n",
        "Zmień 'wzrost' na 182\n",
        "Dodaj klucz 'wynik matury' z dowolną wartością\n",
        "Usuń klucz (i wartość) 'miasto'"
      ],
      "metadata": {
        "id": "YK2j2hp6cfcq"
      }
    },
    {
      "cell_type": "code",
      "source": [
        "student={'imie':'Jan', 'nazwisko':'kowalski','wiek':25, 'wzrost':188, 'waga':80, 'miasto':'Toruń'}\n",
        "for klucz in student.keys():\n",
        "  print(klucz+'->'+str(student[klucz]))"
      ],
      "metadata": {
        "colab": {
          "base_uri": "https://localhost:8080/"
        },
        "id": "3vro0IyBbwZ1",
        "outputId": "efaf6dcd-466e-437f-d651-95ee418e344a"
      },
      "execution_count": 7,
      "outputs": [
        {
          "output_type": "stream",
          "name": "stdout",
          "text": [
            "imie->Jan\n",
            "nazwisko->kowalski\n",
            "wiek->25\n",
            "wzrost->188\n",
            "waga->80\n",
            "miasto->Toruń\n"
          ]
        }
      ]
    },
    {
      "cell_type": "code",
      "source": [
        "student['wzrost']=182\n",
        "student"
      ],
      "metadata": {
        "colab": {
          "base_uri": "https://localhost:8080/"
        },
        "id": "-iyQET24eLou",
        "outputId": "28d19d0f-0ff7-4c70-dc4c-b10bc0f21ead"
      },
      "execution_count": 9,
      "outputs": [
        {
          "output_type": "execute_result",
          "data": {
            "text/plain": [
              "{'imie': 'Jan',\n",
              " 'miasto': 'Toruń',\n",
              " 'nazwisko': 'kowalski',\n",
              " 'waga': 80,\n",
              " 'wiek': 25,\n",
              " 'wzrost': 182}"
            ]
          },
          "metadata": {},
          "execution_count": 9
        }
      ]
    },
    {
      "cell_type": "code",
      "source": [
        "student['wynik matury']=20"
      ],
      "metadata": {
        "id": "nY2sO655eX9d"
      },
      "execution_count": 10,
      "outputs": []
    },
    {
      "cell_type": "code",
      "source": [
        "del student['miasto']"
      ],
      "metadata": {
        "id": "rYCo3mekeqvV"
      },
      "execution_count": 11,
      "outputs": []
    },
    {
      "cell_type": "code",
      "source": [
        "student"
      ],
      "metadata": {
        "colab": {
          "base_uri": "https://localhost:8080/"
        },
        "id": "t3XZu50EezGd",
        "outputId": "325d0b97-4e8b-4c9d-a0ef-9fdcb5eb10ee"
      },
      "execution_count": 12,
      "outputs": [
        {
          "output_type": "execute_result",
          "data": {
            "text/plain": [
              "{'imie': 'Jan',\n",
              " 'nazwisko': 'kowalski',\n",
              " 'waga': 80,\n",
              " 'wiek': 25,\n",
              " 'wynik matury': 20,\n",
              " 'wzrost': 182}"
            ]
          },
          "metadata": {},
          "execution_count": 12
        }
      ]
    },
    {
      "cell_type": "markdown",
      "source": [
        "Zadanie 2\n",
        "Dane są dwie listy równej długości\n",
        "\n",
        "klucze=['klucz1','klucz2','inny klucz', 'test'] wartosci=[1,2,5,1] Utwórz w sposób zautomatyzowany (nie ręcznie) słownik, który kolejnym kluczom przypisze kolejne wartości."
      ],
      "metadata": {
        "id": "66p6u3y0e1aV"
      }
    },
    {
      "cell_type": "code",
      "source": [
        "klucze=['klucz1','klucz2','inny klucz', 'test']\n",
        "wartosci=[1,2,5,1]\n",
        "nowy=zip(klucze,wartosci)"
      ],
      "metadata": {
        "id": "RivReW1FfOSl"
      },
      "execution_count": 17,
      "outputs": []
    },
    {
      "cell_type": "code",
      "source": [
        "list(nowy)"
      ],
      "metadata": {
        "colab": {
          "base_uri": "https://localhost:8080/"
        },
        "id": "Spf4U6bTf_5N",
        "outputId": "c4b63be7-924c-44c6-eaca-8bf82e608e22"
      },
      "execution_count": 18,
      "outputs": [
        {
          "output_type": "execute_result",
          "data": {
            "text/plain": [
              "[('klucz1', 1), ('klucz2', 2), ('inny klucz', 5), ('test', 1)]"
            ]
          },
          "metadata": {},
          "execution_count": 18
        }
      ]
    },
    {
      "cell_type": "markdown",
      "source": [
        "Zadanie 3"
      ],
      "metadata": {
        "id": "bK3okBkHgshV"
      }
    },
    {
      "cell_type": "code",
      "source": [
        "def ciag(n):\n",
        "  if n==0:\n",
        "    return 1\n",
        "  else:\n",
        "    an=2*ciag(n-1)\n",
        "  return an"
      ],
      "metadata": {
        "id": "QH5CVEOpgnB1"
      },
      "execution_count": 20,
      "outputs": []
    },
    {
      "cell_type": "code",
      "source": [
        "print(ciag(4))"
      ],
      "metadata": {
        "colab": {
          "base_uri": "https://localhost:8080/"
        },
        "id": "s3CBHYNhiAgu",
        "outputId": "256b802b-3f9f-47c9-f3e1-a9af528e7863"
      },
      "execution_count": 22,
      "outputs": [
        {
          "output_type": "stream",
          "name": "stdout",
          "text": [
            "16\n"
          ]
        }
      ]
    },
    {
      "cell_type": "markdown",
      "source": [
        "Sympy"
      ],
      "metadata": {
        "id": "WRuRL7IwibPd"
      }
    },
    {
      "cell_type": "code",
      "source": [
        "import sympy\n",
        "#lub\n",
        "from sympy import *"
      ],
      "metadata": {
        "id": "Lq9alU-JijCt"
      },
      "execution_count": 24,
      "outputs": []
    },
    {
      "cell_type": "code",
      "source": [
        "x=symbols('x')\n",
        "x"
      ],
      "metadata": {
        "colab": {
          "base_uri": "https://localhost:8080/",
          "height": 38
        },
        "id": "GI-W3Hw-jNIt",
        "outputId": "62632f3d-a939-4476-cf06-164a51768a50"
      },
      "execution_count": 38,
      "outputs": [
        {
          "output_type": "execute_result",
          "data": {
            "text/latex": "$\\displaystyle x$",
            "text/plain": [
              "x"
            ]
          },
          "metadata": {},
          "execution_count": 38
        }
      ]
    },
    {
      "cell_type": "code",
      "source": [
        "sin(x)**2+cos(x)**2"
      ],
      "metadata": {
        "colab": {
          "base_uri": "https://localhost:8080/",
          "height": 38
        },
        "id": "5WcoPvyqjlA8",
        "outputId": "70f2dc0a-c11e-4bb4-ee31-bf56fe0d79c8"
      },
      "execution_count": 31,
      "outputs": [
        {
          "output_type": "execute_result",
          "data": {
            "text/latex": "$\\displaystyle \\sin^{2}{\\left(x \\right)} + \\cos^{2}{\\left(x \\right)}$",
            "text/plain": [
              "sin(x)**2 + cos(x)**2"
            ]
          },
          "metadata": {},
          "execution_count": 31
        }
      ]
    },
    {
      "cell_type": "code",
      "source": [
        "simplify(_)"
      ],
      "metadata": {
        "colab": {
          "base_uri": "https://localhost:8080/",
          "height": 37
        },
        "id": "3J7fbM4AkPQ9",
        "outputId": "42a2d97e-2e79-4f42-cff7-523e10b8c198"
      },
      "execution_count": 33,
      "outputs": [
        {
          "output_type": "execute_result",
          "data": {
            "text/latex": "$\\displaystyle 1$",
            "text/plain": [
              "1"
            ]
          },
          "metadata": {},
          "execution_count": 33
        }
      ]
    },
    {
      "cell_type": "code",
      "source": [
        "solve(2*x-5)"
      ],
      "metadata": {
        "colab": {
          "base_uri": "https://localhost:8080/"
        },
        "id": "EZFIYXXqkW_N",
        "outputId": "b633dc19-51f5-49d6-c4d2-46e2317742b6"
      },
      "execution_count": 36,
      "outputs": [
        {
          "output_type": "execute_result",
          "data": {
            "text/plain": [
              "[5/2]"
            ]
          },
          "metadata": {},
          "execution_count": 36
        }
      ]
    },
    {
      "cell_type": "code",
      "source": [
        "wyr=x**2+5*x+3"
      ],
      "metadata": {
        "id": "XIRIOwiClIL1"
      },
      "execution_count": 39,
      "outputs": []
    },
    {
      "cell_type": "code",
      "source": [
        "wyr.subs(x,1)   #policzenie równiania pezy x=1"
      ],
      "metadata": {
        "colab": {
          "base_uri": "https://localhost:8080/",
          "height": 37
        },
        "id": "C0OcQ93LlZnM",
        "outputId": "d1f99b9f-3fe7-42db-fb9f-d2a8d858cfa5"
      },
      "execution_count": 40,
      "outputs": [
        {
          "output_type": "execute_result",
          "data": {
            "text/latex": "$\\displaystyle 9$",
            "text/plain": [
              "9"
            ]
          },
          "metadata": {},
          "execution_count": 40
        }
      ]
    },
    {
      "cell_type": "code",
      "source": [
        "sin(30).evalf()    #wartość równiania"
      ],
      "metadata": {
        "colab": {
          "base_uri": "https://localhost:8080/",
          "height": 37
        },
        "id": "-kjlhPqxlerk",
        "outputId": "33458c5b-2c9e-4959-9241-007d2e98db15"
      },
      "execution_count": 42,
      "outputs": [
        {
          "output_type": "execute_result",
          "data": {
            "text/latex": "$\\displaystyle -0.988031624092862$",
            "text/plain": [
              "-0.988031624092862"
            ]
          },
          "metadata": {},
          "execution_count": 42
        }
      ]
    },
    {
      "cell_type": "code",
      "source": [
        "wyr.diff(x)"
      ],
      "metadata": {
        "colab": {
          "base_uri": "https://localhost:8080/",
          "height": 38
        },
        "id": "OmikJHHYlwfU",
        "outputId": "87c1100b-8269-4e6c-efca-bfeecef17d5f"
      },
      "execution_count": 43,
      "outputs": [
        {
          "output_type": "execute_result",
          "data": {
            "text/latex": "$\\displaystyle 2 x + 5$",
            "text/plain": [
              "2*x + 5"
            ]
          },
          "metadata": {},
          "execution_count": 43
        }
      ]
    },
    {
      "cell_type": "code",
      "source": [
        "f=symbols('f', cls=Function)\n",
        "g=Function('g')    #definiowanie funkcji"
      ],
      "metadata": {
        "id": "KjDBAHfSmA6E"
      },
      "execution_count": 44,
      "outputs": []
    },
    {
      "cell_type": "code",
      "source": [
        "ODE= f(x).diff(x)-f(x) #liczenie równań różniczkowych"
      ],
      "metadata": {
        "id": "AjfED8M5mQTs"
      },
      "execution_count": 45,
      "outputs": []
    },
    {
      "cell_type": "code",
      "source": [
        "dsolve(ODE)"
      ],
      "metadata": {
        "colab": {
          "base_uri": "https://localhost:8080/",
          "height": 38
        },
        "id": "EMAthvwhmof0",
        "outputId": "3032be8c-78fb-4513-e26a-2584d54a7fe8"
      },
      "execution_count": 46,
      "outputs": [
        {
          "output_type": "execute_result",
          "data": {
            "text/latex": "$\\displaystyle f{\\left(x \\right)} = C_{1} e^{x}$",
            "text/plain": [
              "Eq(f(x), C1*exp(x))"
            ]
          },
          "metadata": {},
          "execution_count": 46
        }
      ]
    },
    {
      "cell_type": "code",
      "source": [
        "integrate(wyr,x)   #całki"
      ],
      "metadata": {
        "colab": {
          "base_uri": "https://localhost:8080/",
          "height": 54
        },
        "id": "fHfKGNcgmvku",
        "outputId": "40efe108-04c8-4f0b-d0ae-1a3873c0c3ce"
      },
      "execution_count": 47,
      "outputs": [
        {
          "output_type": "execute_result",
          "data": {
            "text/latex": "$\\displaystyle \\frac{x^{3}}{3} + \\frac{5 x^{2}}{2} + 3 x$",
            "text/plain": [
              "x**3/3 + 5*x**2/2 + 3*x"
            ]
          },
          "metadata": {},
          "execution_count": 47
        }
      ]
    },
    {
      "cell_type": "code",
      "source": [
        "integrate(wyr,(x,0,1))  #całki oznaczone"
      ],
      "metadata": {
        "colab": {
          "base_uri": "https://localhost:8080/",
          "height": 51
        },
        "id": "5NwNhPgKnVQ8",
        "outputId": "e8dc0c51-e660-4ef5-bb8e-381a2c9c6bce"
      },
      "execution_count": 49,
      "outputs": [
        {
          "output_type": "execute_result",
          "data": {
            "text/latex": "$\\displaystyle \\frac{35}{6}$",
            "text/plain": [
              "35/6"
            ]
          },
          "metadata": {},
          "execution_count": 49
        }
      ]
    },
    {
      "cell_type": "code",
      "source": [
        "plot(wyr,(x,0,5))  #wykres"
      ],
      "metadata": {
        "colab": {
          "base_uri": "https://localhost:8080/",
          "height": 314
        },
        "id": "1s03EdRTnckD",
        "outputId": "caaa4e4d-c9a5-4521-93dd-532adc5e8537"
      },
      "execution_count": 51,
      "outputs": [
        {
          "output_type": "display_data",
          "data": {
            "image/png": "[encoded data removed]",
            "text/plain": [
              "<Figure size 432x288 with 1 Axes>"
            ]
          },
          "metadata": {
            "needs_background": "light"
          }
        },
        {
          "output_type": "execute_result",
          "data": {
            "text/plain": [
              "<sympy.plotting.plot.Plot at 0x7f4560947d50>"
            ]
          },
          "metadata": {},
          "execution_count": 51
        }
      ]
    },
    {
      "cell_type": "markdown",
      "source": [
        "Zadanie 4"
      ],
      "metadata": {
        "id": "KA_l-HzWoD88"
      }
    },
    {
      "cell_type": "code",
      "source": [
        "from sympy import *\n",
        "def pochodna(f,a):\n",
        "  h=symbols('h')\n",
        "  return limit((f.subs(x,a+h)-f.subs(x,a))/h,h,0)\n",
        "               \n",
        "pochodna(x**2,1)\n"
      ],
      "metadata": {
        "colab": {
          "base_uri": "https://localhost:8080/",
          "height": 37
        },
        "id": "8vWC4J9jny_M",
        "outputId": "e3bf1cd1-d3e8-4a7a-c50f-dd49b33fde17"
      },
      "execution_count": 54,
      "outputs": [
        {
          "output_type": "execute_result",
          "data": {
            "text/latex": "$\\displaystyle 2$",
            "text/plain": [
              "2"
            ]
          },
          "metadata": {},
          "execution_count": 54
        }
      ]
    },
    {
      "cell_type": "code",
      "source": [
        "from sympy import *\n",
        "def pochodna(f,x,a):\n",
        "  h=symbols('h')\n",
        "  return limit((f.subs(x,a+h)-f.subs(x,a))/h,h,0)\n",
        "               \n",
        "pochodna(y**2,y,1)"
      ],
      "metadata": {
        "colab": {
          "base_uri": "https://localhost:8080/",
          "height": 200
        },
        "id": "Tp9YSkXUsrg7",
        "outputId": "f93bb8db-614e-4eb9-aacc-2d5f5f16f6dc"
      },
      "execution_count": 56,
      "outputs": [
        {
          "output_type": "error",
          "ename": "NameError",
          "evalue": "ignored",
          "traceback": [
            "\u001b[0;31m---------------------------------------------------------------------------\u001b[0m",
            "\u001b[0;31mNameError\u001b[0m                                 Traceback (most recent call last)",
            "\u001b[0;32m<ipython-input-56-d996313ba9a5>\u001b[0m in \u001b[0;36m<module>\u001b[0;34m()\u001b[0m\n\u001b[1;32m      4\u001b[0m   \u001b[0;32mreturn\u001b[0m \u001b[0mlimit\u001b[0m\u001b[0;34m(\u001b[0m\u001b[0;34m(\u001b[0m\u001b[0mf\u001b[0m\u001b[0;34m.\u001b[0m\u001b[0msubs\u001b[0m\u001b[0;34m(\u001b[0m\u001b[0mx\u001b[0m\u001b[0;34m,\u001b[0m\u001b[0ma\u001b[0m\u001b[0;34m+\u001b[0m\u001b[0mh\u001b[0m\u001b[0;34m)\u001b[0m\u001b[0;34m-\u001b[0m\u001b[0mf\u001b[0m\u001b[0;34m.\u001b[0m\u001b[0msubs\u001b[0m\u001b[0;34m(\u001b[0m\u001b[0mx\u001b[0m\u001b[0;34m,\u001b[0m\u001b[0ma\u001b[0m\u001b[0;34m)\u001b[0m\u001b[0;34m)\u001b[0m\u001b[0;34m/\u001b[0m\u001b[0mh\u001b[0m\u001b[0;34m,\u001b[0m\u001b[0mh\u001b[0m\u001b[0;34m,\u001b[0m\u001b[0;36m0\u001b[0m\u001b[0;34m)\u001b[0m\u001b[0;34m\u001b[0m\u001b[0;34m\u001b[0m\u001b[0m\n\u001b[1;32m      5\u001b[0m \u001b[0;34m\u001b[0m\u001b[0m\n\u001b[0;32m----> 6\u001b[0;31m \u001b[0mpochodna\u001b[0m\u001b[0;34m(\u001b[0m\u001b[0my\u001b[0m\u001b[0;34m**\u001b[0m\u001b[0;36m2\u001b[0m\u001b[0;34m,\u001b[0m\u001b[0my\u001b[0m\u001b[0;34m,\u001b[0m\u001b[0;36m1\u001b[0m\u001b[0;34m)\u001b[0m\u001b[0;34m\u001b[0m\u001b[0;34m\u001b[0m\u001b[0m\n\u001b[0m",
            "\u001b[0;31mNameError\u001b[0m: name 'y' is not defined"
          ]
        }
      ]
    }
  ]
}