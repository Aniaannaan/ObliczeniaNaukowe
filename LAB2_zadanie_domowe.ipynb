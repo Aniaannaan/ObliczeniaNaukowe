{
  "nbformat": 4,
  "nbformat_minor": 0,
  "metadata": {
    "colab": {
      "name": "LAB2 - zadanie domowe",
      "provenance": [],
      "include_colab_link": true
    },
    "kernelspec": {
      "name": "python3",
      "display_name": "Python 3"
    },
    "language_info": {
      "name": "python"
    }
  },
  "cells": [
    {
      "cell_type": "markdown",
      "metadata": {
        "id": "view-in-github",
        "colab_type": "text"
      },
      "source": [
        "<a href=\"https://colab.research.google.com/github/Aniaannaan/ObliczeniaNaukowe/blob/main/LAB2_zadanie_domowe.ipynb\" target=\"_parent\"><img src=\"https://colab.research.google.com/assets/colab-badge.svg\" alt=\"Open In Colab\"/></a>"
      ]
    },
    {
      "cell_type": "markdown",
      "source": [
        "#### Zadanie 1\n",
        "Niech $L1 = [\"1\", \"10\", \"2\", \"15\", \"22\", \"112\"]$ oraz $L2 = [\"0.5\", \"1\", \"15\", \"22.4\", \"22\", \"211\"]$.\n",
        "\n",
        "Posortuj listy $L1$ i $L2$ zgodnie z wartościami zapisanych liczb (a nie leksykograficznie). Stwórz Listę $L3$, która będzie zawierała wartości liczbowe utworzone poprzez konkatenację napisów z posortowanych list $L1$ oraz $L2$."
      ],
      "metadata": {
        "id": "ENCL_g8HsECL"
      }
    },
    {
      "cell_type": "code",
      "source": [
        "L1 = ['1', '10', '2', '15', '22', '112']\n",
        "\n",
        "print(sorted(L1))"
      ],
      "metadata": {
        "id": "v4FjR5mosF-A",
        "outputId": "2dbb633e-ab5c-43d3-ec13-a6f387fb7370",
        "colab": {
          "base_uri": "https://localhost:8080/"
        }
      },
      "execution_count": 22,
      "outputs": [
        {
          "output_type": "stream",
          "name": "stdout",
          "text": [
            "['1', '10', '112', '15', '2', '22']\n"
          ]
        }
      ]
    },
    {
      "cell_type": "code",
      "source": [
        ""
      ],
      "metadata": {
        "id": "7wYQGePWsGH6"
      },
      "execution_count": null,
      "outputs": []
    },
    {
      "cell_type": "code",
      "source": [
        ""
      ],
      "metadata": {
        "id": "PoCorE4FsGKc"
      },
      "execution_count": null,
      "outputs": []
    },
    {
      "cell_type": "code",
      "source": [
        ""
      ],
      "metadata": {
        "id": "-gBPsBRzsGNH"
      },
      "execution_count": null,
      "outputs": []
    },
    {
      "cell_type": "code",
      "source": [
        ""
      ],
      "metadata": {
        "id": "lC5CvDttsGPv"
      },
      "execution_count": null,
      "outputs": []
    },
    {
      "cell_type": "code",
      "source": [
        ""
      ],
      "metadata": {
        "id": "dWQHCVbisGTB"
      },
      "execution_count": null,
      "outputs": []
    },
    {
      "cell_type": "markdown",
      "source": [
        "#### Zadanie 2\n",
        "Dane są dwie listy upodobań:\n",
        "\n",
        "Jarek = ['koty', 'dobrze zjesc', 'piwo', 'bose spacery po trawie', 'pilka nozna'],\n",
        "\n",
        "Marek = ['piwo', 'psy', 'dobrze zjesc', 'siatkowka', 'seriale'].\n",
        "\n",
        "Na ich podstawie:\n",
        "\n",
        "1.  przygotuj zbiory $Jarek$ i $Marek$, i wyświetl ich zawartość,\n",
        "\n",
        "2.  oblicz sumę ich upodobań, to co wspólnie lubią, to co lubi tylko Jarek, to co lubi tylko Marek i wyświetl ich zawartości"
      ],
      "metadata": {
        "id": "ACNcsNASsGda"
      }
    },
    {
      "cell_type": "code",
      "source": [
        "Jarek = {'koty', 'dobrze zjesc', 'piwo', 'bose spacery po trawie', 'pilka nozna'}\n",
        "print(Jarek)"
      ],
      "metadata": {
        "id": "EJJeCBPrsSkQ",
        "outputId": "3c83936a-1263-41f4-c05c-3187c81bb4ba",
        "colab": {
          "base_uri": "https://localhost:8080/"
        }
      },
      "execution_count": 7,
      "outputs": [
        {
          "output_type": "stream",
          "name": "stdout",
          "text": [
            "{'bose spacery po trawie', 'dobrze zjesc', 'koty', 'pilka nozna', 'piwo'}\n"
          ]
        }
      ]
    },
    {
      "cell_type": "code",
      "source": [
        "Marek = {'piwo', 'psy', 'dobrze zjesc', 'siatkowka', 'seriale'}\n",
        "print(Marek)"
      ],
      "metadata": {
        "id": "wz62PlFtsTJT",
        "outputId": "e281d88d-2a7b-4126-d8da-535b6c2d8cbc",
        "colab": {
          "base_uri": "https://localhost:8080/"
        }
      },
      "execution_count": 8,
      "outputs": [
        {
          "output_type": "stream",
          "name": "stdout",
          "text": [
            "{'dobrze zjesc', 'seriale', 'psy', 'siatkowka', 'piwo'}\n"
          ]
        }
      ]
    },
    {
      "cell_type": "code",
      "source": [
        "wspolnie_lubia = Jarek.intersection(Marek)\n",
        "print(wspolnie_lubia)"
      ],
      "metadata": {
        "id": "WueBbUhmsTLS",
        "outputId": "2c032bbe-53c7-47de-f4b1-ceb395d119e0",
        "colab": {
          "base_uri": "https://localhost:8080/"
        }
      },
      "execution_count": 10,
      "outputs": [
        {
          "output_type": "stream",
          "name": "stdout",
          "text": [
            "{'dobrze zjesc', 'piwo'}\n"
          ]
        }
      ]
    },
    {
      "cell_type": "code",
      "source": [
        "lubi_Jarek = Jarek.difference(Marek)\n",
        "print(lubi_Jarek)"
      ],
      "metadata": {
        "id": "_iwYcIhvsTNY",
        "outputId": "df203782-29bc-4651-8810-77d7d36d3eae",
        "colab": {
          "base_uri": "https://localhost:8080/"
        }
      },
      "execution_count": 11,
      "outputs": [
        {
          "output_type": "stream",
          "name": "stdout",
          "text": [
            "{'bose spacery po trawie', 'koty', 'pilka nozna'}\n"
          ]
        }
      ]
    },
    {
      "cell_type": "code",
      "source": [
        "lubi_Marek = Marek.difference(Jarek)\n",
        "print(lubi_Marek)"
      ],
      "metadata": {
        "id": "ISS8FoMfsTQs",
        "outputId": "3e826914-d895-4676-dd4a-21a09bddc185",
        "colab": {
          "base_uri": "https://localhost:8080/"
        }
      },
      "execution_count": 12,
      "outputs": [
        {
          "output_type": "stream",
          "name": "stdout",
          "text": [
            "{'siatkowka', 'seriale', 'psy'}\n"
          ]
        }
      ]
    },
    {
      "cell_type": "markdown",
      "source": [
        "#### Zadanie 3\n",
        "Napisz **funkcję** bezargumentową o nazwie listownik(), która\n",
        "* zapyta o długośc listy, która musi znaleźć się w przedziale $[10,20]$ (przypilnuj użytkownika)\n",
        "* wygeneruje  i wydrukuje listę o odpowiedniej długości z liczbami losowymi  przedziału $[0,10]$\n",
        "* **zwróci** liczbę unikalnych wartości w wygenerowanej liście\n",
        "\n",
        "W rozwiązaniu można korzystać z funkcji pomocniczych.\n"
      ],
      "metadata": {
        "id": "gvgzYVq7tVRB"
      }
    },
    {
      "cell_type": "code",
      "source": [
        ""
      ],
      "metadata": {
        "id": "lhi0JLcntXrQ"
      },
      "execution_count": null,
      "outputs": []
    }
  ]
}