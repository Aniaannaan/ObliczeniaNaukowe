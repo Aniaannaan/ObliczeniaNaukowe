{
  "nbformat": 4,
  "nbformat_minor": 0,
  "metadata": {
    "colab": {
      "name": "Test wysyłania",
      "provenance": [],
      "authorship_tag": "ABX9TyOTS6g3ANuiFk5pPnqKl5uk",
      "include_colab_link": true
    },
    "kernelspec": {
      "name": "python3",
      "display_name": "Python 3"
    },
    "language_info": {
      "name": "python"
    }
  },
  "cells": [
    {
      "cell_type": "markdown",
      "metadata": {
        "id": "view-in-github",
        "colab_type": "text"
      },
      "source": [
        "<a href=\"https://colab.research.google.com/github/Aniaannaan/ObliczeniaNaukowe/blob/main/Lab_1.ipynb\" target=\"_parent\"><img src=\"https://colab.research.google.com/assets/colab-badge.svg\" alt=\"Open In Colab\"/></a>"
      ]
    },
    {
      "cell_type": "code",
      "execution_count": 1,
      "metadata": {
        "colab": {
          "base_uri": "https://localhost:8080/"
        },
        "id": "V4Q9Iuo6aNRV",
        "outputId": "2891c667-eed2-4b6e-ea2c-7f0660bab56e"
      },
      "outputs": [
        {
          "output_type": "stream",
          "name": "stdout",
          "text": [
            "cześć\n"
          ]
        }
      ],
      "source": [
        "print(\"cześć\")"
      ]
    },
    {
      "cell_type": "code",
      "source": [
        ""
      ],
      "metadata": {
        "id": "tIgz6lZOkOZs"
      },
      "execution_count": null,
      "outputs": []
    },
    {
      "cell_type": "markdown",
      "source": [
        "# Nagłówek 1\n",
        "## Pod nim\n",
        "# Sekcja 2\n",
        "## Podsekcja \n",
        "### zadanie 2\n",
        "\n",
        "````\n",
        "````python\n",
        "print(\"a\")\n",
        "````\n",
        "```python\n",
        "print(\"a\")\n",
        "```\n",
        "*Listy\n",
        "1. pierwszy\n",
        "2.drugi\n",
        "3.trzeci\n",
        " \n",
        "*LateX\n",
        "$\n"
      ],
      "metadata": {
        "id": "9Av-DSWnkTj7"
      }
    },
    {
      "cell_type": "code",
      "source": [
        "2+2"
      ],
      "metadata": {
        "colab": {
          "base_uri": "https://localhost:8080/"
        },
        "id": "Op3rGEG3lnYQ",
        "outputId": "6d281c03-abab-42c1-8170-0fbde41f489e"
      },
      "execution_count": 2,
      "outputs": [
        {
          "output_type": "execute_result",
          "data": {
            "text/plain": [
              "4"
            ]
          },
          "metadata": {},
          "execution_count": 2
        }
      ]
    },
    {
      "cell_type": "code",
      "source": [
        "2**3"
      ],
      "metadata": {
        "colab": {
          "base_uri": "https://localhost:8080/"
        },
        "id": "k_7z_r7-mvrK",
        "outputId": "b9dbf046-3da3-4046-c4a3-e99e5e0297be"
      },
      "execution_count": 3,
      "outputs": [
        {
          "output_type": "execute_result",
          "data": {
            "text/plain": [
              "8"
            ]
          },
          "metadata": {},
          "execution_count": 3
        }
      ]
    },
    {
      "cell_type": "code",
      "source": [
        "3+5>6"
      ],
      "metadata": {
        "colab": {
          "base_uri": "https://localhost:8080/"
        },
        "id": "UnxFRALqmx7e",
        "outputId": "44cc61f4-cca3-482f-d162-79f0a8a976dc"
      },
      "execution_count": 4,
      "outputs": [
        {
          "output_type": "execute_result",
          "data": {
            "text/plain": [
              "True"
            ]
          },
          "metadata": {},
          "execution_count": 4
        }
      ]
    },
    {
      "cell_type": "code",
      "source": [
        "import math"
      ],
      "metadata": {
        "id": "j1Dha3Ttm1qW"
      },
      "execution_count": 6,
      "outputs": []
    },
    {
      "cell_type": "code",
      "source": [
        "math.sin(30)"
      ],
      "metadata": {
        "colab": {
          "base_uri": "https://localhost:8080/"
        },
        "id": "VxdshMVJm6ku",
        "outputId": "44ed599d-fe3e-4a66-c13d-c4d1177d5c54"
      },
      "execution_count": 7,
      "outputs": [
        {
          "output_type": "execute_result",
          "data": {
            "text/plain": [
              "-0.9880316240928618"
            ]
          },
          "metadata": {},
          "execution_count": 7
        }
      ]
    },
    {
      "cell_type": "code",
      "source": [
        "math.log(4,2)"
      ],
      "metadata": {
        "colab": {
          "base_uri": "https://localhost:8080/"
        },
        "id": "5jhhJEwInD_J",
        "outputId": "237d4895-8269-428a-d80d-6b56df0a853d"
      },
      "execution_count": 9,
      "outputs": [
        {
          "output_type": "execute_result",
          "data": {
            "text/plain": [
              "2.0"
            ]
          },
          "metadata": {},
          "execution_count": 9
        }
      ]
    },
    {
      "cell_type": "code",
      "source": [
        ""
      ],
      "metadata": {
        "id": "idCUBRlunJUM"
      },
      "execution_count": null,
      "outputs": []
    }
  ]
}